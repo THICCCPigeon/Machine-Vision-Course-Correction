{
 "cells": [
  {
   "cell_type": "code",
   "execution_count": 2,
   "metadata": {},
   "outputs": [],
   "source": [
    "import pyautogui as py\n",
    "import cv2\n",
    "import numpy as np"
   ]
  },
  {
   "cell_type": "code",
   "execution_count": 3,
   "metadata": {},
   "outputs": [],
   "source": [
    "def takeScreenshot():\n",
    "    im = py.screenshot(\"Screen.png\", region=(272,131,1023,577))\n",
    "    img = np.array(im)\n",
    "    img = cv2.cvtColor(img, cv2.COLOR_RGB2BGR)\n",
    "    return img"
   ]
  },
  {
   "cell_type": "code",
   "execution_count": 4,
   "metadata": {},
   "outputs": [],
   "source": [
    "def canny(img):\n",
    "    gray = cv2.cvtColor(img, cv2.COLOR_BGR2GRAY)\n",
    "    kernel = 5\n",
    "    blur = cv2.GaussianBlur(gray, (kernel,kernel), 0)\n",
    "    canny = cv2.Canny(blur, 50, 150)\n",
    "    return canny"
   ]
  },
  {
   "cell_type": "code",
   "execution_count": 5,
   "metadata": {},
   "outputs": [],
   "source": [
    "def region_of_interest(img):\n",
    "    height = img.shape[0]\n",
    "    width = img.shape[1]\n",
    "    mask = np.zeros_like(img)\n",
    "    triangle = np.array([[(0,height),(width/2,height/2-70),(width,height-60),]],np.int32)\n",
    "    cv2.fillPoly(mask,triangle, 255)\n",
    "    masked_image = cv2.bitwise_and(img, mask)\n",
    "    return masked_image"
   ]
  },
  {
   "cell_type": "code",
   "execution_count": 6,
   "metadata": {},
   "outputs": [],
   "source": [
    "def houghLines(img):\n",
    "    houghLines = cv2.HoughLinesP(img, 2, np.pi/180, 100, np.array([]), minLineLength=40, maxLineGap = 10)\n",
    "    return houghLines"
   ]
  },
  {
   "cell_type": "code",
   "execution_count": 13,
   "metadata": {},
   "outputs": [],
   "source": [
    "def make_points(img, lineSI):\n",
    "    slope, intercept = lineSI\n",
    "    height = img.shape[0]\n",
    "    y1 = int(height)\n",
    "    y2 = int(y1*3.0/5)\n",
    "    x1 = int((y1-intercept)/slope)\n",
    "    x2 = int((y2-intercept)/slope)\n",
    "    return [[x1,y1, x2,y2]]"
   ]
  },
  {
   "cell_type": "code",
   "execution_count": 8,
   "metadata": {},
   "outputs": [],
   "source": [
    "def average_slope_intercept(img, lines):\n",
    "    left_fit = []\n",
    "    right_fit = []\n",
    "    for line in lines:\n",
    "        for x1,y1, x2, y2 in line:\n",
    "            fit = np.polyfit((x1,x2),(y1,y2),1)\n",
    "            slope = fit[0]\n",
    "            intercept = fit[1]\n",
    "\n",
    "            if slope < 0:\n",
    "                left_fit.append((slope, intercept))\n",
    "            else:\n",
    "                right_fit.append((slope, intercept))\n",
    "    left_fit_average = np.average(left_fit, axis = 0)\n",
    "    right_fit_average = np.average(right_fit, axis = 0)\n",
    "    left_line = make_points(img, left_fit_average)\n",
    "    right_line = make_points(img, right_fit_average)\n",
    "    average_lines = [left_line, right_line]\n",
    "    return average_lines"
   ]
  },
  {
   "cell_type": "code",
   "execution_count": 15,
   "metadata": {},
   "outputs": [
    {
     "name": "stdout",
     "output_type": "stream",
     "text": [
      "[[[-14, 577, 443, 346]], [[1141, 577, 555, 346]]]\n"
     ]
    }
   ],
   "source": [
    "def display_lines_average(img, lines):\n",
    "    line_image = np.zeros_like(img)\n",
    "    if lines is not None:\n",
    "        for lines in lines:\n",
    "            for x1,y1,x2,y2 in lines:\n",
    "                cv2.line(img, (x1,y1),(x2,y2),(0,0,255),10)\n",
    "    return img\n",
    "\n",
    "frame = takeScreenshot()\n",
    "canny_image = canny(frame)\n",
    "m_img = region_of_interest((canny_image))\n",
    "h_lines = houghLines(m_img)\n",
    "avg_lines = average_slope_intercept(frame, h_lines)\n",
    "print(avg_lines)\n",
    "lines_image = display_lines_average(frame, avg_lines)\n",
    "cv2.startWindowThread()\n",
    "cv2.namedWindow(\"win\")\n",
    "cv2.imshow(\"win\", lines_image)\n",
    "cv2.waitKey(0)\n",
    "cv2.destroyAllWindows()"
   ]
  },
  {
   "cell_type": "markdown",
   "metadata": {},
   "source": [
    "frame = takeScreenshot()\n",
    "canny_image = canny(frame)\n",
    "m_img = region_of_interest((canny_image))\n",
    "h_lines = houghLines(m_img)\n",
    "avg_lines = average_slope_intercept(frame, h_lines)\n",
    "print(avg_lines)\n",
    "cv2.startWindowThread()\n",
    "cv2.namedWindow(\"win\")\n",
    "cv2.imshow(\"win\", m_img)\n",
    "cv2.waitKey(0)\n",
    "cv2.destroyAllWindows()"
   ]
  }
 ],
 "metadata": {
  "kernelspec": {
   "display_name": "Python 3",
   "language": "python",
   "name": "python3"
  },
  "language_info": {
   "codemirror_mode": {
    "name": "ipython",
    "version": 3
   },
   "file_extension": ".py",
   "mimetype": "text/x-python",
   "name": "python",
   "nbconvert_exporter": "python",
   "pygments_lexer": "ipython3",
   "version": "3.11.2"
  }
 },
 "nbformat": 4,
 "nbformat_minor": 2
}
